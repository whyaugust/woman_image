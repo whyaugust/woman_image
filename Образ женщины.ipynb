{
 "cells": [
  {
   "cell_type": "code",
   "execution_count": 2,
   "id": "c511d75b",
   "metadata": {},
   "outputs": [],
   "source": [
    "import pandas as pd \n",
    "import numpy as np"
   ]
  },
  {
   "cell_type": "code",
   "execution_count": 3,
   "id": "1d834e2b",
   "metadata": {},
   "outputs": [
    {
     "data": {
      "text/html": [
       "<div>\n",
       "<style scoped>\n",
       "    .dataframe tbody tr th:only-of-type {\n",
       "        vertical-align: middle;\n",
       "    }\n",
       "\n",
       "    .dataframe tbody tr th {\n",
       "        vertical-align: top;\n",
       "    }\n",
       "\n",
       "    .dataframe thead th {\n",
       "        text-align: right;\n",
       "    }\n",
       "</style>\n",
       "<table border=\"1\" class=\"dataframe\">\n",
       "  <thead>\n",
       "    <tr style=\"text-align: right;\">\n",
       "      <th></th>\n",
       "      <th>url</th>\n",
       "      <th>link</th>\n",
       "      <th>prompt</th>\n",
       "      <th>age</th>\n",
       "      <th>race</th>\n",
       "      <th>shot</th>\n",
       "      <th>nudity</th>\n",
       "      <th>body</th>\n",
       "      <th>body_settings</th>\n",
       "      <th>makeup</th>\n",
       "      <th>skin</th>\n",
       "      <th>hair</th>\n",
       "    </tr>\n",
       "  </thead>\n",
       "  <tbody>\n",
       "    <tr>\n",
       "      <th>0</th>\n",
       "      <td>https://ik.imagekit.io/freeflo/production/5935...</td>\n",
       "      <td>https://freeflo.ai/images/photo/serious-young-...</td>\n",
       "      <td>young woman with long black hair, in flowing w...</td>\n",
       "      <td>12</td>\n",
       "      <td>01</td>\n",
       "      <td>12</td>\n",
       "      <td>13</td>\n",
       "      <td>01</td>\n",
       "      <td>0</td>\n",
       "      <td>01</td>\n",
       "      <td>02</td>\n",
       "      <td>01</td>\n",
       "    </tr>\n",
       "    <tr>\n",
       "      <th>1</th>\n",
       "      <td>https://ik.imagekit.io/freeflo/production/e0a9...</td>\n",
       "      <td>https://freeflo.ai/images/photo/documentary-st...</td>\n",
       "      <td>Woman, in the style of documental photography ...</td>\n",
       "      <td>02</td>\n",
       "      <td>02</td>\n",
       "      <td>02</td>\n",
       "      <td>01</td>\n",
       "      <td>01</td>\n",
       "      <td>0</td>\n",
       "      <td>02</td>\n",
       "      <td>00</td>\n",
       "      <td>03</td>\n",
       "    </tr>\n",
       "    <tr>\n",
       "      <th>2</th>\n",
       "      <td>https://ik.imagekit.io/freeflo/production/a035...</td>\n",
       "      <td>https://freeflo.ai/images/photo/capturing-a-wo...</td>\n",
       "      <td>Woman standing on the beach, captured in the s...</td>\n",
       "      <td>00</td>\n",
       "      <td>00</td>\n",
       "      <td>00</td>\n",
       "      <td>02</td>\n",
       "      <td>02</td>\n",
       "      <td>0</td>\n",
       "      <td>00</td>\n",
       "      <td>00</td>\n",
       "      <td>01</td>\n",
       "    </tr>\n",
       "    <tr>\n",
       "      <th>3</th>\n",
       "      <td>https://ik.imagekit.io/freeflo/production/7461...</td>\n",
       "      <td>https://freeflo.ai/images/photo/wide-angle-pho...</td>\n",
       "      <td>a Woman, in the style of wide angle photograph...</td>\n",
       "      <td>02</td>\n",
       "      <td>00</td>\n",
       "      <td>00</td>\n",
       "      <td>03</td>\n",
       "      <td>01</td>\n",
       "      <td>0</td>\n",
       "      <td>00</td>\n",
       "      <td>00</td>\n",
       "      <td>01</td>\n",
       "    </tr>\n",
       "    <tr>\n",
       "      <th>4</th>\n",
       "      <td>https://ik.imagekit.io/freeflo/production/4779...</td>\n",
       "      <td>https://freeflo.ai/images/photo/stylish-woman-...</td>\n",
       "      <td>A photo of a beautiful woman at the city an op...</td>\n",
       "      <td>02</td>\n",
       "      <td>01</td>\n",
       "      <td>02</td>\n",
       "      <td>13</td>\n",
       "      <td>02</td>\n",
       "      <td>0</td>\n",
       "      <td>01</td>\n",
       "      <td>02</td>\n",
       "      <td>01</td>\n",
       "    </tr>\n",
       "    <tr>\n",
       "      <th>...</th>\n",
       "      <td>...</td>\n",
       "      <td>...</td>\n",
       "      <td>...</td>\n",
       "      <td>...</td>\n",
       "      <td>...</td>\n",
       "      <td>...</td>\n",
       "      <td>...</td>\n",
       "      <td>...</td>\n",
       "      <td>...</td>\n",
       "      <td>...</td>\n",
       "      <td>...</td>\n",
       "      <td>...</td>\n",
       "    </tr>\n",
       "    <tr>\n",
       "      <th>95</th>\n",
       "      <td>https://www.freepik.com/free-ai-image/close-up...</td>\n",
       "      <td>https://www.freepik.com/free-ai-image/close-up...</td>\n",
       "      <td>a portrait of a girl holding a flower in her h...</td>\n",
       "      <td>12</td>\n",
       "      <td>01</td>\n",
       "      <td>02</td>\n",
       "      <td>02</td>\n",
       "      <td>01</td>\n",
       "      <td>0</td>\n",
       "      <td>01</td>\n",
       "      <td>02</td>\n",
       "      <td>01</td>\n",
       "    </tr>\n",
       "    <tr>\n",
       "      <th>96</th>\n",
       "      <td>https://img.freepik.com/free-photo/medium-shot...</td>\n",
       "      <td>https://www.freepik.com/free-ai-image/medium-s...</td>\n",
       "      <td>Creating a photograph for this scenario is a b...</td>\n",
       "      <td>02</td>\n",
       "      <td>11</td>\n",
       "      <td>02</td>\n",
       "      <td>03</td>\n",
       "      <td>01</td>\n",
       "      <td>0</td>\n",
       "      <td>01</td>\n",
       "      <td>02</td>\n",
       "      <td>02</td>\n",
       "    </tr>\n",
       "    <tr>\n",
       "      <th>97</th>\n",
       "      <td>https://img.freepik.com/free-photo/monochrome-...</td>\n",
       "      <td>https://www.freepik.com/free-ai-image/monochro...</td>\n",
       "      <td>woman sitting outside with glass full of fresh...</td>\n",
       "      <td>02</td>\n",
       "      <td>01</td>\n",
       "      <td>02</td>\n",
       "      <td>03</td>\n",
       "      <td>00</td>\n",
       "      <td>0</td>\n",
       "      <td>00</td>\n",
       "      <td>02</td>\n",
       "      <td>01</td>\n",
       "    </tr>\n",
       "    <tr>\n",
       "      <th>98</th>\n",
       "      <td>https://img.freepik.com/free-photo/medium-shot...</td>\n",
       "      <td>https://www.freepik.com/free-ai-image/medium-s...</td>\n",
       "      <td>A woman with braided hair, illuminated by soft...</td>\n",
       "      <td>02</td>\n",
       "      <td>01</td>\n",
       "      <td>01</td>\n",
       "      <td>02</td>\n",
       "      <td>01</td>\n",
       "      <td>0</td>\n",
       "      <td>01</td>\n",
       "      <td>02</td>\n",
       "      <td>11</td>\n",
       "    </tr>\n",
       "    <tr>\n",
       "      <th>99</th>\n",
       "      <td>https://img.freepik.com/free-photo/cinematic-p...</td>\n",
       "      <td>https://www.freepik.com/free-ai-image/cinemati...</td>\n",
       "      <td>medium shot, female doctor working, melancholi...</td>\n",
       "      <td>02</td>\n",
       "      <td>01</td>\n",
       "      <td>02</td>\n",
       "      <td>04</td>\n",
       "      <td>00</td>\n",
       "      <td>0</td>\n",
       "      <td>01</td>\n",
       "      <td>02</td>\n",
       "      <td>01</td>\n",
       "    </tr>\n",
       "  </tbody>\n",
       "</table>\n",
       "<p>100 rows × 12 columns</p>\n",
       "</div>"
      ],
      "text/plain": [
       "                                                  url  \\\n",
       "0   https://ik.imagekit.io/freeflo/production/5935...   \n",
       "1   https://ik.imagekit.io/freeflo/production/e0a9...   \n",
       "2   https://ik.imagekit.io/freeflo/production/a035...   \n",
       "3   https://ik.imagekit.io/freeflo/production/7461...   \n",
       "4   https://ik.imagekit.io/freeflo/production/4779...   \n",
       "..                                                ...   \n",
       "95  https://www.freepik.com/free-ai-image/close-up...   \n",
       "96  https://img.freepik.com/free-photo/medium-shot...   \n",
       "97  https://img.freepik.com/free-photo/monochrome-...   \n",
       "98  https://img.freepik.com/free-photo/medium-shot...   \n",
       "99  https://img.freepik.com/free-photo/cinematic-p...   \n",
       "\n",
       "                                                 link  \\\n",
       "0   https://freeflo.ai/images/photo/serious-young-...   \n",
       "1   https://freeflo.ai/images/photo/documentary-st...   \n",
       "2   https://freeflo.ai/images/photo/capturing-a-wo...   \n",
       "3   https://freeflo.ai/images/photo/wide-angle-pho...   \n",
       "4   https://freeflo.ai/images/photo/stylish-woman-...   \n",
       "..                                                ...   \n",
       "95  https://www.freepik.com/free-ai-image/close-up...   \n",
       "96  https://www.freepik.com/free-ai-image/medium-s...   \n",
       "97  https://www.freepik.com/free-ai-image/monochro...   \n",
       "98  https://www.freepik.com/free-ai-image/medium-s...   \n",
       "99  https://www.freepik.com/free-ai-image/cinemati...   \n",
       "\n",
       "                                               prompt age race shot nudity  \\\n",
       "0   young woman with long black hair, in flowing w...  12   01   12     13   \n",
       "1   Woman, in the style of documental photography ...  02   02   02     01   \n",
       "2   Woman standing on the beach, captured in the s...  00   00   00     02   \n",
       "3   a Woman, in the style of wide angle photograph...  02   00   00     03   \n",
       "4   A photo of a beautiful woman at the city an op...  02   01   02     13   \n",
       "..                                                ...  ..  ...  ...    ...   \n",
       "95  a portrait of a girl holding a flower in her h...  12   01   02     02   \n",
       "96  Creating a photograph for this scenario is a b...  02   11   02     03   \n",
       "97  woman sitting outside with glass full of fresh...  02   01   02     03   \n",
       "98  A woman with braided hair, illuminated by soft...  02   01   01     02   \n",
       "99  medium shot, female doctor working, melancholi...  02   01   02     04   \n",
       "\n",
       "   body  body_settings makeup skin hair  \n",
       "0    01              0     01   02   01  \n",
       "1    01              0     02   00   03  \n",
       "2    02              0     00   00   01  \n",
       "3    01              0     00   00   01  \n",
       "4    02              0     01   02   01  \n",
       "..  ...            ...    ...  ...  ...  \n",
       "95   01              0     01   02   01  \n",
       "96   01              0     01   02   02  \n",
       "97   00              0     00   02   01  \n",
       "98   01              0     01   02   11  \n",
       "99   00              0     01   02   01  \n",
       "\n",
       "[100 rows x 12 columns]"
      ]
     },
     "execution_count": 3,
     "metadata": {},
     "output_type": "execute_result"
    }
   ],
   "source": [
    "df=pd.read_csv('data',dtype={'age':str, 'race':str, 'shot':str, 'nudity':str, 'body':str, 'makeup':str,'skin':str, 'hair':str,})\n",
    "df"
   ]
  },
  {
   "cell_type": "code",
   "execution_count": 4,
   "id": "fae3f807",
   "metadata": {},
   "outputs": [
    {
     "data": {
      "text/plain": [
       "02    65\n",
       "12    25\n",
       "00     3\n",
       "22     3\n",
       "11     2\n",
       "13     1\n",
       "03     1\n",
       "Name: age, dtype: int64"
      ]
     },
     "execution_count": 4,
     "metadata": {},
     "output_type": "execute_result"
    }
   ],
   "source": [
    "df['age'].value_counts()"
   ]
  },
  {
   "cell_type": "code",
   "execution_count": 5,
   "id": "e07f4463",
   "metadata": {},
   "outputs": [
    {
     "data": {
      "text/plain": [
       "01    71\n",
       "00    11\n",
       "12     7\n",
       "11     7\n",
       "02     4\n",
       "Name: race, dtype: int64"
      ]
     },
     "execution_count": 5,
     "metadata": {},
     "output_type": "execute_result"
    }
   ],
   "source": [
    "df['race'].value_counts()"
   ]
  },
  {
   "cell_type": "code",
   "execution_count": 6,
   "id": "f18ebcc0",
   "metadata": {},
   "outputs": [
    {
     "data": {
      "text/plain": [
       "02    39\n",
       "12    21\n",
       "11    13\n",
       "01     9\n",
       "21     6\n",
       "22     4\n",
       "13     3\n",
       "00     2\n",
       "03     2\n",
       "10     1\n",
       "Name: shot, dtype: int64"
      ]
     },
     "execution_count": 6,
     "metadata": {},
     "output_type": "execute_result"
    }
   ],
   "source": [
    "df['shot'].value_counts()"
   ]
  },
  {
   "cell_type": "code",
   "execution_count": 7,
   "id": "645743f6",
   "metadata": {},
   "outputs": [
    {
     "data": {
      "text/plain": [
       "02    28\n",
       "03    25\n",
       "14    10\n",
       "04    10\n",
       "13     8\n",
       "00     8\n",
       "12     6\n",
       "01     4\n",
       "11     1\n",
       "Name: nudity, dtype: int64"
      ]
     },
     "execution_count": 7,
     "metadata": {},
     "output_type": "execute_result"
    }
   ],
   "source": [
    "df['nudity'].value_counts()"
   ]
  },
  {
   "cell_type": "code",
   "execution_count": 8,
   "id": "d4f9d135",
   "metadata": {},
   "outputs": [
    {
     "data": {
      "text/plain": [
       "00    39\n",
       "02    28\n",
       "01    27\n",
       "12     3\n",
       "13     2\n",
       "22     1\n",
       "Name: body, dtype: int64"
      ]
     },
     "execution_count": 8,
     "metadata": {},
     "output_type": "execute_result"
    }
   ],
   "source": [
    "df['body'].value_counts()"
   ]
  },
  {
   "cell_type": "code",
   "execution_count": 9,
   "id": "d9663a09",
   "metadata": {},
   "outputs": [
    {
     "data": {
      "text/plain": [
       "01    60\n",
       "02    25\n",
       "00     9\n",
       "03     4\n",
       "12     1\n",
       "11     1\n",
       "Name: makeup, dtype: int64"
      ]
     },
     "execution_count": 9,
     "metadata": {},
     "output_type": "execute_result"
    }
   ],
   "source": [
    "df['makeup'].value_counts()"
   ]
  },
  {
   "cell_type": "code",
   "execution_count": 10,
   "id": "2541f1a8",
   "metadata": {},
   "outputs": [
    {
     "data": {
      "text/plain": [
       "00    48\n",
       "02    38\n",
       "01    12\n",
       "22     1\n",
       "11     1\n",
       "Name: skin, dtype: int64"
      ]
     },
     "execution_count": 10,
     "metadata": {},
     "output_type": "execute_result"
    }
   ],
   "source": [
    "df['skin'].value_counts()"
   ]
  },
  {
   "cell_type": "code",
   "execution_count": 11,
   "id": "0fbdc16d",
   "metadata": {},
   "outputs": [
    {
     "data": {
      "text/plain": [
       "01    54\n",
       "02    21\n",
       "11     9\n",
       "03     5\n",
       "13     4\n",
       "12     4\n",
       "00     3\n",
       "Name: hair, dtype: int64"
      ]
     },
     "execution_count": 11,
     "metadata": {},
     "output_type": "execute_result"
    }
   ],
   "source": [
    "df['hair'].value_counts()"
   ]
  },
  {
   "cell_type": "code",
   "execution_count": 12,
   "id": "48a0ce1b",
   "metadata": {},
   "outputs": [
    {
     "data": {
      "text/plain": [
       "0    95\n",
       "1     5\n",
       "Name: body_settings, dtype: int64"
      ]
     },
     "execution_count": 12,
     "metadata": {},
     "output_type": "execute_result"
    }
   ],
   "source": [
    "df['body_settings'].value_counts()"
   ]
  },
  {
   "cell_type": "code",
   "execution_count": 29,
   "id": "22797db1",
   "metadata": {},
   "outputs": [
    {
     "data": {
      "text/plain": [
       "<Axes: >"
      ]
     },
     "execution_count": 29,
     "metadata": {},
     "output_type": "execute_result"
    },
    {
     "data": {
      "image/png": "[encoded data removed]",
      "text/plain": [
       "<Figure size 640x480 with 1 Axes>"
      ]
     },
     "metadata": {},
     "output_type": "display_data"
    }
   ],
   "source": [
    "df['age'].value_counts().plot(kind='bar')"
   ]
  },
  {
   "cell_type": "code",
   "execution_count": 30,
   "id": "a349be32",
   "metadata": {},
   "outputs": [
    {
     "data": {
      "text/plain": [
       "<Axes: >"
      ]
     },
     "execution_count": 30,
     "metadata": {},
     "output_type": "execute_result"
    },
    {
     "data": {
      "image/png": "[encoded data removed]",
      "text/plain": [
       "<Figure size 640x480 with 1 Axes>"
      ]
     },
     "metadata": {},
     "output_type": "display_data"
    }
   ],
   "source": [
    "df['race'].value_counts().plot(kind='bar')"
   ]
  },
  {
   "cell_type": "code",
   "execution_count": 31,
   "id": "ce67904e",
   "metadata": {},
   "outputs": [
    {
     "data": {
      "text/plain": [
       "<Axes: >"
      ]
     },
     "execution_count": 31,
     "metadata": {},
     "output_type": "execute_result"
    },
    {
     "data": {
      "image/png": "[encoded data removed]",
      "text/plain": [
       "<Figure size 640x480 with 1 Axes>"
      ]
     },
     "metadata": {},
     "output_type": "display_data"
    }
   ],
   "source": [
    "df['nudity'].value_counts().plot(kind='bar')"
   ]
  },
  {
   "cell_type": "code",
   "execution_count": 32,
   "id": "f8c54ed3",
   "metadata": {},
   "outputs": [
    {
     "data": {
      "text/plain": [
       "<Axes: >"
      ]
     },
     "execution_count": 32,
     "metadata": {},
     "output_type": "execute_result"
    },
    {
     "data": {
      "image/png": "[encoded data removed]",
      "text/plain": [
       "<Figure size 640x480 with 1 Axes>"
      ]
     },
     "metadata": {},
     "output_type": "display_data"
    }
   ],
   "source": [
    "df['body'].value_counts().plot(kind='bar')"
   ]
  },
  {
   "cell_type": "code",
   "execution_count": 35,
   "id": "7759c53b",
   "metadata": {},
   "outputs": [
    {
     "data": {
      "text/plain": [
       "<Axes: >"
      ]
     },
     "execution_count": 35,
     "metadata": {},
     "output_type": "execute_result"
    },
    {
     "data": {
      "image/png": "[encoded data removed]",
      "text/plain": [
       "<Figure size 640x480 with 1 Axes>"
      ]
     },
     "metadata": {},
     "output_type": "display_data"
    }
   ],
   "source": [
    "df['makeup'].value_counts().plot(kind='bar')"
   ]
  },
  {
   "cell_type": "code",
   "execution_count": 36,
   "id": "a1639340",
   "metadata": {},
   "outputs": [
    {
     "data": {
      "text/plain": [
       "<Axes: >"
      ]
     },
     "execution_count": 36,
     "metadata": {},
     "output_type": "execute_result"
    },
    {
     "data": {
      "image/png": "[encoded data removed]",
      "text/plain": [
       "<Figure size 640x480 with 1 Axes>"
      ]
     },
     "metadata": {},
     "output_type": "display_data"
    }
   ],
   "source": [
    "df['skin'].value_counts().plot(kind='bar')"
   ]
  },
  {
   "cell_type": "code",
   "execution_count": 37,
   "id": "19fddd8f",
   "metadata": {},
   "outputs": [
    {
     "data": {
      "text/plain": [
       "<Axes: >"
      ]
     },
     "execution_count": 37,
     "metadata": {},
     "output_type": "execute_result"
    },
    {
     "data": {
      "image/png": "[encoded data removed]",
      "text/plain": [
       "<Figure size 640x480 with 1 Axes>"
      ]
     },
     "metadata": {},
     "output_type": "display_data"
    }
   ],
   "source": [
    "df['hair'].value_counts().plot(kind='bar')"
   ]
  }
 ],
 "metadata": {
  "kernelspec": {
   "display_name": "Python 3 (ipykernel)",
   "language": "python",
   "name": "python3"
  },
  "language_info": {
   "codemirror_mode": {
    "name": "ipython",
    "version": 3
   },
   "file_extension": ".py",
   "mimetype": "text/x-python",
   "name": "python",
   "nbconvert_exporter": "python",
   "pygments_lexer": "ipython3",
   "version": "3.11.4"
  }
 },
 "nbformat": 4,
 "nbformat_minor": 5
}
